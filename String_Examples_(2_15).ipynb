{
  "nbformat": 4,
  "nbformat_minor": 0,
  "metadata": {
    "colab": {
      "provenance": [],
      "authorship_tag": "ABX9TyONr8Ldlo62NJkC2r0IZxHe",
      "include_colab_link": true
    },
    "kernelspec": {
      "name": "python3",
      "display_name": "Python 3"
    },
    "language_info": {
      "name": "python"
    }
  },
  "cells": [
    {
      "cell_type": "markdown",
      "metadata": {
        "id": "view-in-github",
        "colab_type": "text"
      },
      "source": [
        "<a href=\"https://colab.research.google.com/github/MarinBomgaars/BTE-320/blob/main/String_Examples_(2_15).ipynb\" target=\"_parent\"><img src=\"https://colab.research.google.com/assets/colab-badge.svg\" alt=\"Open In Colab\"/></a>"
      ]
    },
    {
      "cell_type": "markdown",
      "source": [
        "## Strings are fixed once they are declared and we can use different functions to gain insights about strings:\n",
        "- len: provides the number of characters in a string\n",
        "- s[#]: provides the value of a character at a given index (#)\n",
        "- s + '...' : creates a new string with the value(s) of s followed by the additional values (...)\n",
        "- (#) * s: creates a new string that respeats the contents of the original string for a given amount of times (#)"
      ],
      "metadata": {
        "id": "pMZphFP28DiC"
      }
    },
    {
      "cell_type": "code",
      "execution_count": null,
      "metadata": {
        "id": "PUTjJSxN6n2E"
      },
      "outputs": [],
      "source": [
        "s = 'This is a test'\n",
        "len(s) #output --> 14\n",
        "s[8] # output --> 'a'\n",
        "s + ', and this is a test too' #output --> 'This is a test, and this is a test too'\n",
        "\n",
        "s2 = 'a'\n",
        "print(3*s2) #output --> aaa"
      ]
    },
    {
      "cell_type": "markdown",
      "source": [
        "**Slice Function**\n",
        "- start: the index of the initial value for the slice\n",
        "- end: the index of the'last' value in the slice (we never reach this value - similar to range function)\n",
        "- step: the increment taken while going from one index to the next"
      ],
      "metadata": {
        "id": "K63_QjIF9Ry9"
      }
    },
    {
      "cell_type": "code",
      "source": [
        "s2 = 'abcdefg'\n",
        "s3 = s2[2:5:1] #output --> cde\n",
        "print(s3)\n",
        "\n",
        "s4 = s2[3:len(s2)] #in order to have the end value be the last character, we can use the len function\n",
        "print(s4)"
      ],
      "metadata": {
        "id": "WQTF76HZ9PG0"
      },
      "execution_count": null,
      "outputs": []
    },
    {
      "cell_type": "markdown",
      "source": [
        "**More Examples:**"
      ],
      "metadata": {
        "id": "m9DiuBCxAWHq"
      }
    },
    {
      "cell_type": "code",
      "source": [
        "ex = \"This is another test!\"\n",
        "\n",
        "print(ex[len(ex) - 1]) #output --> !\n",
        "\n",
        "print(ex[8:15]) #output --> another\n",
        "\n",
        "print(ex[len(ex) -1], ex[20], ex[-1]) #all three of these will return the last character in this string\n",
        "                                      #the second strategy requires you to find the exact index (20 will not work for all strings)\n",
        "\n",
        "ex[:4] #output --> 'This' (by omitting the start value it assumes to start at index, 0)\n",
        "ex[16:] #output --> 'test!' (by omitting the end value it assumes to end at the last charcater which is the last index + 1)"
      ],
      "metadata": {
        "id": "YY-xAsMf_61g"
      },
      "execution_count": null,
      "outputs": []
    }
  ]
}