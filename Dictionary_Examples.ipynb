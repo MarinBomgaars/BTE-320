{
  "nbformat": 4,
  "nbformat_minor": 0,
  "metadata": {
    "colab": {
      "provenance": [],
      "authorship_tag": "ABX9TyN8oqbtRwKcddZ2wdYjSi7k",
      "include_colab_link": true
    },
    "kernelspec": {
      "name": "python3",
      "display_name": "Python 3"
    },
    "language_info": {
      "name": "python"
    }
  },
  "cells": [
    {
      "cell_type": "markdown",
      "metadata": {
        "id": "view-in-github",
        "colab_type": "text"
      },
      "source": [
        "<a href=\"https://colab.research.google.com/github/MarinBomgaars/BTE-320/blob/main/Dictionary_Examples.ipynb\" target=\"_parent\"><img src=\"https://colab.research.google.com/assets/colab-badge.svg\" alt=\"Open In Colab\"/></a>"
      ]
    },
    {
      "cell_type": "markdown",
      "source": [
        "# Dictionary Examples\n",
        "The format of an item in a dictionary is {key: value}. In dictionaries, instead of finding a value using the index (as done for strings, tuples, etc.), we find values using the key. There is no notion of order within dictionaries which is why we do not reference an index.Keys are unique and immutable. Values can be any given any type."
      ],
      "metadata": {
        "id": "fzzewB_wtnm5"
      }
    },
    {
      "cell_type": "code",
      "execution_count": null,
      "metadata": {
        "id": "zzzbwKd-rXp_"
      },
      "outputs": [],
      "source": [
        "grades = {\n",
        "    'Alice': 91,\n",
        "    'Bob': 88,\n",
        "    'Tracy': 93,\n",
        "    'Erik': 90\n",
        "}     #the above lines create a dictionary, grades, with a list of each student and their given grade\n",
        "\n",
        "grades['Tracy'] #to display a certain value in a dictionary, we must call it using the key\n",
        "                #in this case the keys are the students names"
      ]
    },
    {
      "cell_type": "code",
      "source": [
        "grades['Alice'] = 95  #changes Alice's grade to 95 from 91\n",
        "grades"
      ],
      "metadata": {
        "id": "imyTXTJXs285"
      },
      "execution_count": null,
      "outputs": []
    },
    {
      "cell_type": "code",
      "source": [
        "grades['Michael'] = 92  #adds a new key, Michael, and assigns a value, 92, to that key\n",
        "grades"
      ],
      "metadata": {
        "id": "PQzE-sHyumUy"
      },
      "execution_count": null,
      "outputs": []
    },
    {
      "cell_type": "code",
      "source": [
        "del grades ['Michael'] #deletes an existing key in the dictionary\n",
        "grades"
      ],
      "metadata": {
        "id": "QIsVzo99uYQU"
      },
      "execution_count": null,
      "outputs": []
    },
    {
      "cell_type": "code",
      "source": [
        "grades.keys() #displays all of the keys in the dictionary"
      ],
      "metadata": {
        "id": "gr7Dewj9vDgO"
      },
      "execution_count": null,
      "outputs": []
    },
    {
      "cell_type": "code",
      "source": [
        "grades.values() #displays all of the values in the dictionary"
      ],
      "metadata": {
        "id": "48bKr3Odv50C"
      },
      "execution_count": null,
      "outputs": []
    },
    {
      "cell_type": "code",
      "source": [
        "grades.items()  #displays all of the items in the dictionary"
      ],
      "metadata": {
        "id": "61IM8c3IvwQh"
      },
      "execution_count": null,
      "outputs": []
    },
    {
      "cell_type": "code",
      "source": [
        "#this is a for loop that iterates over all of the key values and prints each\n",
        "#this can be done for keys, values, and items\n",
        "\n",
        "for key in grades.keys():\n",
        "  print(key)"
      ],
      "metadata": {
        "id": "YMa6caZYwFdA"
      },
      "execution_count": null,
      "outputs": []
    },
    {
      "cell_type": "code",
      "source": [
        "#this is a for loop that iterates over all of the items and each key and given value\n",
        "for key, value in grades.items():\n",
        "  print(key, value)"
      ],
      "metadata": {
        "id": "_VdLhf6NwyPX"
      },
      "execution_count": null,
      "outputs": []
    }
  ]
}