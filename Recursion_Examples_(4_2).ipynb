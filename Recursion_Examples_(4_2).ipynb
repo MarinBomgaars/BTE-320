{
  "nbformat": 4,
  "nbformat_minor": 0,
  "metadata": {
    "colab": {
      "provenance": [],
      "authorship_tag": "ABX9TyP1H7z7GqrRGLjQQ3ilycfP",
      "include_colab_link": true
    },
    "kernelspec": {
      "name": "python3",
      "display_name": "Python 3"
    },
    "language_info": {
      "name": "python"
    }
  },
  "cells": [
    {
      "cell_type": "markdown",
      "metadata": {
        "id": "view-in-github",
        "colab_type": "text"
      },
      "source": [
        "<a href=\"https://colab.research.google.com/github/MarinBomgaars/BTE-320/blob/main/Recursion_Examples_(4_2).ipynb\" target=\"_parent\"><img src=\"https://colab.research.google.com/assets/colab-badge.svg\" alt=\"Open In Colab\"/></a>"
      ]
    },
    {
      "cell_type": "markdown",
      "source": [
        "# **Recursion**\n",
        "\n",
        "Recursion allows us to limit computation time for problems that traditionally use iterations by defining functions (that do not use iterations). The definition of a recursive function will have both a...\n",
        "\n",
        "**Base Case:** Trivialized version of the problem\n",
        "\n",
        "**Inductive Case:** Splits problem into smaller, simpler version of itself"
      ],
      "metadata": {
        "id": "xrrE3Dxyqc-I"
      }
    },
    {
      "cell_type": "code",
      "execution_count": null,
      "metadata": {
        "id": "jmDtnS0mpFCD"
      },
      "outputs": [],
      "source": [
        "#this is not an example of a recursive case, this is showing how we would\n",
        "#define a function for counting down using a for loop\n",
        "\n",
        "def countdownF(n):\n",
        "  for i in range (n,-1,-1):\n",
        "    print(i)\n",
        "\n",
        "countdownF(5)"
      ]
    },
    {
      "cell_type": "code",
      "source": [
        "#this is also not an example of a recursive case, this is showing how we would\n",
        "#define a function for counting down using a while loop\n",
        "\n",
        "def countdownW(n):\n",
        "  while n>=0:\n",
        "    print(n)\n",
        "    n=n-1\n",
        "\n",
        "countdownW(5)"
      ],
      "metadata": {
        "id": "LHpchqA_qE94"
      },
      "execution_count": null,
      "outputs": []
    },
    {
      "cell_type": "markdown",
      "source": [
        "In general, iterations are very computationally intensive, so we use recursive functions in order to minimize the time and energy used. Below is an example of a recursive function with the same output as the above ones, however, we do not perform any iterations."
      ],
      "metadata": {
        "id": "YpprLRb8tqH4"
      }
    },
    {
      "cell_type": "code",
      "source": [
        "def recursive_countdown(n):\n",
        "  if n == 0: #base case\n",
        "    print (0)\n",
        "  else: #inductive case\n",
        "    print(n)\n",
        "    recursive_countdown(n-1) #a recursive function must include a call\n",
        "                             #to the function within the definition of the function\n",
        "\n",
        "recursive_countdown(5)"
      ],
      "metadata": {
        "id": "h-75DcBcr7dw"
      },
      "execution_count": null,
      "outputs": []
    },
    {
      "cell_type": "markdown",
      "source": [
        "**Summation Example:**"
      ],
      "metadata": {
        "id": "ImORQ_TqvVtB"
      }
    },
    {
      "cell_type": "code",
      "source": [
        "#non-recursive definition of a function that calculates a summation from 0 to n\n",
        "\n",
        "def summation(n):\n",
        "  s = 0\n",
        "  while n>0:\n",
        "    s = s + n\n",
        "    n = n - 1\n",
        "  return s\n",
        "\n",
        "summation(3)"
      ],
      "metadata": {
        "id": "aJTsLYJFu1sq"
      },
      "execution_count": null,
      "outputs": []
    },
    {
      "cell_type": "markdown",
      "source": [
        "In order to solve this problem in a **recursive way**, we have to look at the problem differently. If n were three, we could look at the function as a series of equations like this:\n",
        "\n",
        "3 + f(2) --> f(2) = 2 + f(1) --> f(1) = 1 + f(0) --> f(0) = 0\n",
        "\n",
        "In order to solve this equation, we must go through it backward:\n",
        "\n",
        "f(0) = 0 --> 1 + 0 = 1 --> 2 + 1 = 3 --> 3 + 3 = 6"
      ],
      "metadata": {
        "id": "m42uxe6dyCDo"
      }
    },
    {
      "cell_type": "code",
      "source": [
        "def recursive_summation(n):\n",
        "  if n == 0: #base case\n",
        "    return 0\n",
        "  else: #inductive case\n",
        "    return n + recursive_summation(n - 1) #call the the function using the logic\n",
        "                                          #above: n + f(n)\n",
        "\n",
        "recursive_summation(3)"
      ],
      "metadata": {
        "id": "VpkasfORy4Uy"
      },
      "execution_count": null,
      "outputs": []
    },
    {
      "cell_type": "markdown",
      "source": [
        "**Application Example: Factorial**"
      ],
      "metadata": {
        "id": "S6owF9S7z0EI"
      }
    },
    {
      "cell_type": "code",
      "source": [
        "def recursive_factorial(n):\n",
        "  if n <= 1: #base case\n",
        "    return 1\n",
        "  else: #inductive case\n",
        "    return n * recursive_factorial(n - 1)\n",
        "\n",
        "recursive_factorial(5)"
      ],
      "metadata": {
        "id": "j5jgi4fQ0JmT"
      },
      "execution_count": null,
      "outputs": []
    },
    {
      "cell_type": "code",
      "source": [
        "#this will provide the same output as the case above, however for problems where n is very large,\n",
        "#the variable product will take up a lot of memory as it iterates\n",
        "\n",
        "def fact(n):\n",
        "  prod = 1\n",
        "  while n >= 1:\n",
        "    prod = prod * n\n",
        "    n = n - 1\n",
        "  return prod\n",
        "\n",
        "fact(5)"
      ],
      "metadata": {
        "id": "LNh0OnPB29fl"
      },
      "execution_count": null,
      "outputs": []
    },
    {
      "cell_type": "markdown",
      "source": [
        "In some cases, we will need to have 2 base cases. An example of this is the program to calculate the Fibonacci sequence. The **inductive case** for this example is:\n",
        "\n",
        " n = f(n - 1) + f(n -2).\n",
        "\n",
        " The **base cases**:\n",
        "\n",
        " n = 0 --> f(0) = 1\n",
        "\n",
        " n = 1 --> f(1) = 1"
      ],
      "metadata": {
        "id": "VK6mcNP73oMg"
      }
    },
    {
      "cell_type": "markdown",
      "source": [
        "**Fibonacci Sequence Example:**"
      ],
      "metadata": {
        "id": "HhHa_fB43jQm"
      }
    },
    {
      "cell_type": "code",
      "source": [
        "def recursive_fibonacci(n):\n",
        "  if n == 0 or n == 1:\n",
        "    return 1\n",
        "  else:\n",
        "    return recursive_fibonacci(n - 1) + recursive_fibonacci(n - 2)\n",
        "\n",
        "recursive_fibonacci(8)\n",
        "\n",
        "#for demonstration purposes):\n",
        "#for i in range(8):\n",
        "  #print(recursive_fibonacci(i), end = \" \")"
      ],
      "metadata": {
        "id": "YuTbwgpR3hx1"
      },
      "execution_count": null,
      "outputs": []
    }
  ]
}