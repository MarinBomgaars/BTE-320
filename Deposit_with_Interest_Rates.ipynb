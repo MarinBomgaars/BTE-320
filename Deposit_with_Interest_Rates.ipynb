{
  "nbformat": 4,
  "nbformat_minor": 0,
  "metadata": {
    "colab": {
      "provenance": [],
      "authorship_tag": "ABX9TyMhI3K5Yr319FiyN1VOwnKL",
      "include_colab_link": true
    },
    "kernelspec": {
      "name": "python3",
      "display_name": "Python 3"
    },
    "language_info": {
      "name": "python"
    }
  },
  "cells": [
    {
      "cell_type": "markdown",
      "metadata": {
        "id": "view-in-github",
        "colab_type": "text"
      },
      "source": [
        "<a href=\"https://colab.research.google.com/github/MarinBomgaars/BTE-320/blob/main/Deposit_with_Interest_Rates.ipynb\" target=\"_parent\"><img src=\"https://colab.research.google.com/assets/colab-badge.svg\" alt=\"Open In Colab\"/></a>"
      ]
    },
    {
      "cell_type": "code",
      "execution_count": null,
      "metadata": {
        "id": "Y5intcj3N3dI"
      },
      "outputs": [],
      "source": [
        "#this example creates a class that represents a mortgage. The parameters are amount, maturity\n",
        "#and interest (and self as always). Within the class we four methods: (1) returns a string, (2) returns\n",
        "#the interest rate, (3) sets a certain interest rate, and (4) calculates the payment for a given mortgage\n",
        "class Mortgage:\n",
        "  def __init__(self, amount, maturity, interest):\n",
        "    self.amount = amount\n",
        "    self.maturity = maturity\n",
        "    self.__interest = interest\n",
        "\n",
        "  def __str__(self):\n",
        "    return \"I am an instance of mortgage\"\n",
        "\n",
        "  def get_interest(self):\n",
        "    return self.__interest\n",
        "\n",
        "  def set_interest(self, newInterest):\n",
        "    if newInterest >=0:\n",
        "      self.__interest = newInterest\n",
        "    else:\n",
        "      print ('Interest values must be non-negative')\n",
        "\n",
        "\n",
        "    self.__interest= newInterest\n",
        "\n",
        "  def payment(self):\n",
        "    r = self.__interest/100\n",
        "    n = self.maturity * 12\n",
        "    return self.amount * (r * (1 +r) ** n)/((1 + r) ** n - 1)"
      ]
    },
    {
      "cell_type": "code",
      "source": [
        "m = Mortgage(100000, 30, 6)\n",
        "m.payment()"
      ],
      "metadata": {
        "id": "cR1Tt6bBN9C6"
      },
      "execution_count": null,
      "outputs": []
    },
    {
      "cell_type": "code",
      "source": [
        "m.set_interest(5)\n",
        "m.get_interest()"
      ],
      "metadata": {
        "id": "DwbLiTdZN_8Q"
      },
      "execution_count": null,
      "outputs": []
    }
  ]
}