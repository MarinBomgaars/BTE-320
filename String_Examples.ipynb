{
  "nbformat": 4,
  "nbformat_minor": 0,
  "metadata": {
    "colab": {
      "provenance": [],
      "authorship_tag": "ABX9TyN8nl6lMp+EaFiiNB37EZiq",
      "include_colab_link": true
    },
    "kernelspec": {
      "name": "python3",
      "display_name": "Python 3"
    },
    "language_info": {
      "name": "python"
    }
  },
  "cells": [
    {
      "cell_type": "markdown",
      "metadata": {
        "id": "view-in-github",
        "colab_type": "text"
      },
      "source": [
        "<a href=\"https://colab.research.google.com/github/MarinBomgaars/BTE-320/blob/main/String_Examples.ipynb\" target=\"_parent\"><img src=\"https://colab.research.google.com/assets/colab-badge.svg\" alt=\"Open In Colab\"/></a>"
      ]
    },
    {
      "cell_type": "markdown",
      "source": [
        "## Strings are fixed once they are declared and we can use different functions to gain insights about strings:\n",
        "- len: provides the number of characters in a string\n",
        "- s[#]: provides the value of a character at a given index (#)\n",
        "- s + s2 : creates a new string with the value(s) of s followed by the the contents of s2\n",
        "- (#) * s: creates a new string that repeats the contents of the original string for a given amount of times (#)"
      ],
      "metadata": {
        "id": "pMZphFP28DiC"
      }
    },
    {
      "cell_type": "code",
      "execution_count": null,
      "metadata": {
        "id": "PUTjJSxN6n2E"
      },
      "outputs": [],
      "source": [
        "s = 'This is a test'\n",
        "len(s) #output --> 14\n",
        "s[8] #output --> 'a'\n",
        "s + ', and this is a test too' #output --> 'This is a test, and this is a test too'\n",
        "\n",
        "s2 = 'a'\n",
        "print(3*s2) #output --> aaa"
      ]
    },
    {
      "cell_type": "markdown",
      "source": [
        "**Slice Function**\n",
        "- start: the index of the initial value for the slice\n",
        "- end: the index of the'last' value in the slice (we never reach this value - similar to range function)\n",
        "- step: the increment taken while going from one index to the next"
      ],
      "metadata": {
        "id": "K63_QjIF9Ry9"
      }
    },
    {
      "cell_type": "code",
      "source": [
        "s2 = 'abcdefg'\n",
        "s3 = s2[2:5:1] #output --> cde\n",
        "print(s3)\n",
        "\n",
        "s4 = s2[3:len(s2)] #in order to have the end value be the last character, we can use the len function\n",
        "print(s4)"
      ],
      "metadata": {
        "id": "WQTF76HZ9PG0"
      },
      "execution_count": null,
      "outputs": []
    },
    {
      "cell_type": "markdown",
      "source": [
        "**More Examples:**"
      ],
      "metadata": {
        "id": "m9DiuBCxAWHq"
      }
    },
    {
      "cell_type": "code",
      "source": [
        "ex = \"This is another test!\"\n",
        "\n",
        "print(ex[len(ex) - 1]) #output --> !\n",
        "\n",
        "print(ex[8:15]) #output --> another\n",
        "\n",
        "print(ex[len(ex) -1], ex[20], ex[-1]) #all three of these will return the last character in this string\n",
        "                                      #the second strategy requires you to find the exact index (20 will not work for all strings)\n",
        "\n",
        "ex[:4] #output --> 'This' (by omitting the start value it assumes to start at index 0)\n",
        "ex[16:] #output --> 'test!' (by omitting the end value it assumes to end at the last charcater which is the last index + 1)"
      ],
      "metadata": {
        "id": "YY-xAsMf_61g"
      },
      "execution_count": null,
      "outputs": []
    },
    {
      "cell_type": "markdown",
      "source": [
        "**Date Example (Slicing):**"
      ],
      "metadata": {
        "id": "oYVF83mG9N3X"
      }
    },
    {
      "cell_type": "code",
      "source": [
        "# Write a program that takes an input from the keyboard as a string that corresponds\n",
        "# to a date (e.g., 02/20/2024) in the format <<: MM/DD/YYYY\n",
        "\n",
        "date = input('Enter the date: ')\n",
        "\n",
        "month = date[0:2]\n",
        "day = date[3:5]\n",
        "year = date[6:]\n",
        "\n",
        "if month == '01':\n",
        "  month_written = 'January'\n",
        "elif month == '02':\n",
        "  month_written = 'February'\n",
        "elif month == '03':\n",
        "  month_written = 'March'\n",
        "elif month == '04':\n",
        "  month_written = 'April'\n",
        "elif month == '05':\n",
        "  month_written = 'May'\n",
        "elif month == '06':\n",
        "  month_written = 'June'\n",
        "elif month == '07':\n",
        "  month_written = 'July'\n",
        "elif month == '08':\n",
        "  month_written = 'August'\n",
        "elif month == '09':\n",
        "  month_written = 'September'\n",
        "elif month == '10':\n",
        "  month_written = 'October'\n",
        "elif month == '11':\n",
        "  month_written = 'November'\n",
        "elif month == '12':\n",
        "  month_written = 'December'\n",
        "\n",
        "print(f\"the month is {month_written}.\")\n",
        "print(f\"the day is the {day}.\")\n",
        "print(f\"the year is {year}.\")"
      ],
      "metadata": {
        "id": "BN2UsudGxDUl"
      },
      "execution_count": null,
      "outputs": []
    },
    {
      "cell_type": "markdown",
      "source": [
        "**More Examples:**"
      ],
      "metadata": {
        "id": "m8SgTxtI9W0L"
      }
    },
    {
      "cell_type": "code",
      "source": [
        "hello = 'hello '  #we need to include an extra space at the end of the first string or beginning of the second\n",
        "there = 'there'\n",
        "\n",
        "hello + there   #when adding strings we cannot add a variable of a different type"
      ],
      "metadata": {
        "colab": {
          "base_uri": "https://localhost:8080/",
          "height": 35
        },
        "id": "LS8iex8z5WmC",
        "outputId": "1dfabc35-f0d9-4433-8aa7-1c1300c194d2"
      },
      "execution_count": 2,
      "outputs": [
        {
          "output_type": "execute_result",
          "data": {
            "text/plain": [
              "'hello there'"
            ],
            "application/vnd.google.colaboratory.intrinsic+json": {
              "type": "string"
            }
          },
          "metadata": {},
          "execution_count": 2
        }
      ]
    },
    {
      "cell_type": "code",
      "source": [
        "s = 'This is another test'\n",
        "\n",
        "for i in range(len(s)):   #default values for start and step are 0 and 1\n",
        "  print(s[i])             #prints each value in the string individually"
      ],
      "metadata": {
        "id": "bgGEouDh8B3c"
      },
      "execution_count": null,
      "outputs": []
    },
    {
      "cell_type": "code",
      "source": [
        "#this code has the same output as the example above and is more efficient with less\n",
        "#room for errors to occur\n",
        "\n",
        "s = 'This is another test'\n",
        "\n",
        "for c in s:\n",
        "  print(c)"
      ],
      "metadata": {
        "id": "e4YzSkb39d2z"
      },
      "execution_count": null,
      "outputs": []
    },
    {
      "cell_type": "code",
      "source": [
        "s1 = 'computer'\n",
        "s2 ='codes'\n",
        "\n",
        "for c in s1:\n",
        "  if c in s2:\n",
        "    print(c)    #finds the common characters within strings"
      ],
      "metadata": {
        "id": "7CYPftOA-rae"
      },
      "execution_count": null,
      "outputs": []
    },
    {
      "cell_type": "code",
      "source": [
        "s1 = 'computer'\n",
        "s2 ='codes'\n",
        "\n",
        "for i in range(len(s1)):\n",
        "  if s1[i] in s2:\n",
        "    print(s1[i])    #has the same output as the code above just rewritten\n",
        "                    #with different parameters in the for loop and if statement"
      ],
      "metadata": {
        "id": "6sJLZgyB_8SH"
      },
      "execution_count": null,
      "outputs": []
    },
    {
      "cell_type": "code",
      "source": [
        "s =''\n",
        "\n",
        "for i in range(5):\n",
        "  s = s + 'a'\n",
        "  print(len(s))\n",
        "\n",
        "print(s)"
      ],
      "metadata": {
        "colab": {
          "base_uri": "https://localhost:8080/"
        },
        "id": "55YQaz-qFVIZ",
        "outputId": "9797fbd8-7d24-4607-c9ca-2c02fa432306"
      },
      "execution_count": 29,
      "outputs": [
        {
          "output_type": "stream",
          "name": "stdout",
          "text": [
            "1\n",
            "2\n",
            "3\n",
            "4\n",
            "5\n",
            "aaaaa\n"
          ]
        }
      ]
    }
  ]
}