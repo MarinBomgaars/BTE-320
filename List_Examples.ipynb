{
  "nbformat": 4,
  "nbformat_minor": 0,
  "metadata": {
    "colab": {
      "provenance": [],
      "authorship_tag": "ABX9TyNYhhz3bo87VXM/B4h2ibRc",
      "include_colab_link": true
    },
    "kernelspec": {
      "name": "python3",
      "display_name": "Python 3"
    },
    "language_info": {
      "name": "python"
    }
  },
  "cells": [
    {
      "cell_type": "markdown",
      "metadata": {
        "id": "view-in-github",
        "colab_type": "text"
      },
      "source": [
        "<a href=\"https://colab.research.google.com/github/MarinBomgaars/BTE-320/blob/main/List_Examples.ipynb\" target=\"_parent\"><img src=\"https://colab.research.google.com/assets/colab-badge.svg\" alt=\"Open In Colab\"/></a>"
      ]
    },
    {
      "cell_type": "markdown",
      "source": [
        "# Lists:\n",
        "Lists are a changable collection of elements. The elements within a list can be identified using the index (similar to strings). Lists are designed using brackets."
      ],
      "metadata": {
        "id": "_raRA8Lnf85e"
      }
    },
    {
      "cell_type": "markdown",
      "source": [
        "**List Examples:**"
      ],
      "metadata": {
        "id": "g7dLpsbkgfR5"
      }
    },
    {
      "cell_type": "code",
      "execution_count": 8,
      "metadata": {
        "id": "TNyVM1OXbtKA",
        "colab": {
          "base_uri": "https://localhost:8080/"
        },
        "outputId": "7f456187-d68f-49e5-fb50-97b314c119b5"
      },
      "outputs": [
        {
          "output_type": "execute_result",
          "data": {
            "text/plain": [
              "[1, 'two', 3.0, <function print>, [5, 7, 9]]"
            ]
          },
          "metadata": {},
          "execution_count": 8
        }
      ],
      "source": [
        "L = [1, 'two', 3.0, print, [5,7,9]]\n",
        "L"
      ]
    },
    {
      "cell_type": "code",
      "source": [
        "L[:3]\n",
        "L"
      ],
      "metadata": {
        "id": "9rxcAzInbyI6"
      },
      "execution_count": null,
      "outputs": []
    },
    {
      "cell_type": "code",
      "source": [
        "3*['three', 9.99, 0] #the output will be a a list with these values repeating 3 times\n",
        "                      #in the same order shown here"
      ],
      "metadata": {
        "id": "P5kmy63zbz9u"
      },
      "execution_count": null,
      "outputs": []
    },
    {
      "cell_type": "code",
      "source": [
        "#this code will not work for strings because once strings are declared they cannot be changed\n",
        "s = \"two\"\n",
        "s[2] = 'b'"
      ],
      "metadata": {
        "id": "f1zbCRzfb16R"
      },
      "execution_count": null,
      "outputs": []
    },
    {
      "cell_type": "code",
      "source": [
        "L = [1, 'two', 3.0, print, [5,7,9]]\n",
        "L[3] = input    #because input is not in quotes the output will return a strange statement\n",
        "L"
      ],
      "metadata": {
        "id": "D9c4rGCub5OR"
      },
      "execution_count": null,
      "outputs": []
    },
    {
      "cell_type": "code",
      "source": [
        "#we use a for loop because lists have a determined (finite) number of object\n",
        "#and for loops have a determined (finate) number of iterations\n",
        "L = [1, 'two', 3.0, print , [5,7,9]]\n",
        "L[3]='b'\n",
        "for index in range(len(L)):\n",
        "  print(L[index])"
      ],
      "metadata": {
        "id": "WwVpEzYZb7c1"
      },
      "execution_count": null,
      "outputs": []
    },
    {
      "cell_type": "code",
      "source": [
        "#this code will return the same output as the example above\n",
        "#another way to individually print each element in a list\n",
        "for element in L:\n",
        "  print(element)"
      ],
      "metadata": {
        "id": "WAhFAVKUb75S"
      },
      "execution_count": null,
      "outputs": []
    },
    {
      "cell_type": "markdown",
      "source": [
        "**Two Dimensional Lists:**"
      ],
      "metadata": {
        "id": "mjNqEQHo-zvV"
      }
    },
    {
      "cell_type": "code",
      "source": [
        "[[...],[...],[...]]\n",
        "\n",
        "L_outer = [[1, 2, 3],[4, 5, 6]] #this is a two dimensional list\n",
        "print(L_outer)\n",
        "\n",
        "l = L_outer[1]  #creates a new one dimensional list (l) that only contains the values of the second list within L_outer\n",
        "print(l)\n",
        "\n",
        "l[0] = 7  #modifies the first value in l from 4 to 7\n",
        "print(l)\n",
        "\n",
        "L_outer[1] = l  #makes the new value of l, [7, 5, 6], the value of the second list in L_outer\n",
        "print(L_outer)\n",
        "\n",
        "L_outer[1][0] = 7 #does the same as the code above\n",
        "print(L_outer)"
      ],
      "metadata": {
        "id": "vC5K6yErb-Lk"
      },
      "execution_count": null,
      "outputs": []
    },
    {
      "cell_type": "markdown",
      "source": [
        "**Adding Objects to Lists: Appending vs. Extending**"
      ],
      "metadata": {
        "id": "yY8HdL4B-LYT"
      }
    },
    {
      "cell_type": "code",
      "source": [
        "#adding to the list\n",
        "#structure: obj.methodName(...)\n",
        "s = ['three', 9.99, 0]\n",
        "L.append(s)           #adds the values of s to the list, L\n",
        "L                     #append only works for lists\n",
        "\n",
        "s = ['three', 9.99, 0]\n",
        "L.extend(s)           #also adds the values of s to the list, L\n",
        "L\n",
        "\n",
        "L + ['three'] #this does not update L, but the output will be L with an added object, 'three'"
      ],
      "metadata": {
        "id": "tppYhQAAcAhV"
      },
      "execution_count": null,
      "outputs": []
    },
    {
      "cell_type": "code",
      "source": [
        "L.append('three')   #this will add the string object, 'three' to the end of the list\n",
        "                    #the list, L, will now have 6 objects\n",
        "\n",
        "L.append(['three', 4])  #this will add the list object, ['three', 4] to the end of the list\n",
        "                        #the list, L, will still have 6 objects\n",
        "\n",
        "L.extend(['three', 4])  #this will add the list object and variable object seperately to the list\n",
        "                        #the list, L, will now have 7 objects"
      ],
      "metadata": {
        "id": "aIops0K69jbc"
      },
      "execution_count": null,
      "outputs": []
    },
    {
      "cell_type": "markdown",
      "source": [
        "**Removing Objects From Lists: Pop**"
      ],
      "metadata": {
        "id": "w4tSNxSf_CeN"
      }
    },
    {
      "cell_type": "code",
      "source": [
        "# the pop method automatically uses the -1 index,\n",
        "#therefore removing the last object in the list\n",
        "\n",
        "L.pop()   #this will remove the last object from the list\n",
        "L\n",
        "\n",
        "L.pop(2)  #this will remove the 3rd (index = 2) object from the list\n",
        "L"
      ],
      "metadata": {
        "id": "VgsPvgSC-w-F"
      },
      "execution_count": null,
      "outputs": []
    },
    {
      "cell_type": "markdown",
      "source": [
        "**Sorting Lists of Numbers**"
      ],
      "metadata": {
        "id": "SVlbc9PDAPT8"
      }
    },
    {
      "cell_type": "code",
      "source": [
        "#sort only works for 'pure' lists. AKA lists that have objects of all the same type\n",
        "numbers = [5, 7, 2, 9, 1, 4, 8]\n",
        "numbers.sort()      # the sort method automatically sorts the numbers in ascending order\n",
        "numbers\n",
        "\n",
        "\n",
        "numbers.sort(reverse = True)  #this will sort the numbers in descending order\n",
        "numbers"
      ],
      "metadata": {
        "colab": {
          "base_uri": "https://localhost:8080/"
        },
        "id": "Lnnyz49tAGyI",
        "outputId": "2a596307-f5af-4e08-f6c0-6227425b25c5"
      },
      "execution_count": 11,
      "outputs": [
        {
          "output_type": "execute_result",
          "data": {
            "text/plain": [
              "[9, 8, 7, 5, 4, 2, 1]"
            ]
          },
          "metadata": {},
          "execution_count": 11
        }
      ]
    }
  ]
}