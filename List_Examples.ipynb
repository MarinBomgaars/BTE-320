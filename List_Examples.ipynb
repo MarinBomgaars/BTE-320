{
  "nbformat": 4,
  "nbformat_minor": 0,
  "metadata": {
    "colab": {
      "provenance": [],
      "authorship_tag": "ABX9TyMGttPLwkhxOLrc1Gk8f7/n",
      "include_colab_link": true
    },
    "kernelspec": {
      "name": "python3",
      "display_name": "Python 3"
    },
    "language_info": {
      "name": "python"
    }
  },
  "cells": [
    {
      "cell_type": "markdown",
      "metadata": {
        "id": "view-in-github",
        "colab_type": "text"
      },
      "source": [
        "<a href=\"https://colab.research.google.com/github/MarinBomgaars/BTE-320/blob/main/List_Examples.ipynb\" target=\"_parent\"><img src=\"https://colab.research.google.com/assets/colab-badge.svg\" alt=\"Open In Colab\"/></a>"
      ]
    },
    {
      "cell_type": "markdown",
      "source": [
        "# Lists:\n",
        "Lists are changable collection of elements. The elements within a list can be identified using the index (similar to strings). Lists are designed using brackets."
      ],
      "metadata": {
        "id": "_raRA8Lnf85e"
      }
    },
    {
      "cell_type": "markdown",
      "source": [
        "**List Examples:**"
      ],
      "metadata": {
        "id": "g7dLpsbkgfR5"
      }
    },
    {
      "cell_type": "code",
      "execution_count": null,
      "metadata": {
        "id": "TNyVM1OXbtKA"
      },
      "outputs": [],
      "source": [
        "L = [1, 'two', 3.0, print, [5,7,9]]\n",
        "L"
      ]
    },
    {
      "cell_type": "code",
      "source": [
        "L[:3]\n",
        "L"
      ],
      "metadata": {
        "id": "9rxcAzInbyI6"
      },
      "execution_count": null,
      "outputs": []
    },
    {
      "cell_type": "code",
      "source": [
        "3*['three', 9.99, 0] #the output will be a a list with these values repeating 3 times\n",
        "                      #in the same order shown here"
      ],
      "metadata": {
        "id": "P5kmy63zbz9u"
      },
      "execution_count": null,
      "outputs": []
    },
    {
      "cell_type": "code",
      "source": [
        "#this code will not work for strings because once strings are declared they cannot be changed\n",
        "s = \"two\"\n",
        "s[2] = 'b'"
      ],
      "metadata": {
        "id": "f1zbCRzfb16R"
      },
      "execution_count": null,
      "outputs": []
    },
    {
      "cell_type": "code",
      "source": [
        "L = [1, 'two', 3.0, print, [5,7,9]]\n",
        "L[3] = input    #because input is not in quotes the output will return a strange statement\n",
        "L"
      ],
      "metadata": {
        "id": "D9c4rGCub5OR"
      },
      "execution_count": null,
      "outputs": []
    },
    {
      "cell_type": "code",
      "source": [
        "#we use a for loop because lists have a determined (finite) number of object\n",
        "#and for loops have a determined (finate) number of iterations\n",
        "L = [1, 'two', 3.0, print , [5,7,9]]\n",
        "L[3]='b'\n",
        "for index in range(len(L)):\n",
        "  print(L[index])"
      ],
      "metadata": {
        "id": "WwVpEzYZb7c1"
      },
      "execution_count": null,
      "outputs": []
    },
    {
      "cell_type": "code",
      "source": [
        "#this code will return the same output as the example above\n",
        "#another way to individually print each element in a list\n",
        "for element in L:\n",
        "  print(element)"
      ],
      "metadata": {
        "id": "WAhFAVKUb75S"
      },
      "execution_count": null,
      "outputs": []
    },
    {
      "cell_type": "code",
      "source": [
        "[[...],[...],[...]]\n",
        "\n",
        "L_outer = [[1, 2, 3],[4, 5, 6]] #this is a two dimensional list\n",
        "print(L_outer)\n",
        "\n",
        "l = L_outer[1]  #creates a new one dimensional list (l) that only contains the values of the second list within L_outer\n",
        "print(l)\n",
        "\n",
        "l[0] = 7  #modifies the first value in l from 4 to 7\n",
        "print(l)\n",
        "\n",
        "L_outer[1] = l  #makes the new value of l: [7, 5, 6] the value of the second list in L_outer\n",
        "print(L_outer)\n",
        "\n",
        "L_outer[1][0] = 7 #does the same as the code above\n",
        "print(L_outer)"
      ],
      "metadata": {
        "id": "vC5K6yErb-Lk"
      },
      "execution_count": null,
      "outputs": []
    },
    {
      "cell_type": "code",
      "source": [
        "#addind to the list\n",
        "s = ['three', 9.99, 0]\n",
        "L.append(s)           #adds the values of s to the list, L\n",
        "L\n",
        "\n",
        "s = ['three', 9.99, 0]\n",
        "L.extend(s)           #also adds the values of s to the list, L\n",
        "L"
      ],
      "metadata": {
        "id": "tppYhQAAcAhV"
      },
      "execution_count": null,
      "outputs": []
    }
  ]
}