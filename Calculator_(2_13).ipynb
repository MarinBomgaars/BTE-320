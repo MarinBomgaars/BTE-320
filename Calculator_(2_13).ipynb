{
  "nbformat": 4,
  "nbformat_minor": 0,
  "metadata": {
    "colab": {
      "provenance": [],
      "authorship_tag": "ABX9TyPWzaJNz49NKwbeUZRue87f",
      "include_colab_link": true
    },
    "kernelspec": {
      "name": "python3",
      "display_name": "Python 3"
    },
    "language_info": {
      "name": "python"
    }
  },
  "cells": [
    {
      "cell_type": "markdown",
      "metadata": {
        "id": "view-in-github",
        "colab_type": "text"
      },
      "source": [
        "<a href=\"https://colab.research.google.com/github/MarinBomgaars/BTE-320/blob/main/Calculator_(2_13).ipynb\" target=\"_parent\"><img src=\"https://colab.research.google.com/assets/colab-badge.svg\" alt=\"Open In Colab\"/></a>"
      ]
    },
    {
      "cell_type": "markdown",
      "source": [
        "Design a calculator:\n",
        "- The caculator once starts, cannot stop unless the user chooses to (hint: infinite loop)\n",
        "- Implement all numerical operators that we discussed (+, - , *, **, /, //, %)\n",
        "- The user has to provide the numbers and the desired operator from the keyboard; then the calculator will display the result (use three seperate calls to function input() for each one of the inputs)\n",
        "\n",
        "- Numbers: int or float, operators: str\n",
        "- The calculator stops if the user enters the word \"break\" instead of an operator; it skips an iteration if the user gives an operator that is not numerical (e.g., a boolean one)"
      ],
      "metadata": {
        "id": "bCKQvxBlmp6i"
      }
    },
    {
      "cell_type": "code",
      "execution_count": null,
      "metadata": {
        "id": "l1lGhvU0lTYs"
      },
      "outputs": [],
      "source": [
        "while True:\n",
        "  output = 0\n",
        "  a = float(input('Enter your first value: '))\n",
        "  b = float(input('Enter your second value: '))\n",
        "  operator = str(input('Enter your operator: '))\n",
        "\n",
        "  if operator == 'break':\n",
        "    break\n",
        "  if operator == '+':\n",
        "    output = a + b\n",
        "  elif operator == '-':\n",
        "    output = a - b\n",
        "  elif operator == '*':\n",
        "    output = a * b\n",
        "  elif operator == '**':\n",
        "    output = a ** b\n",
        "  elif operator == '/':\n",
        "    output = a / b\n",
        "  elif operator == '//':\n",
        "    output = a * b\n",
        "  elif operator == '%':\n",
        "    output = a % b\n",
        "  else:\n",
        "      print('invalid operator')\n",
        "      continue\n",
        "\n",
        "  print(output)"
      ]
    }
  ]
}