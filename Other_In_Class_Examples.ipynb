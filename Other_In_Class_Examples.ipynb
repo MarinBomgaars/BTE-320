{
  "nbformat": 4,
  "nbformat_minor": 0,
  "metadata": {
    "colab": {
      "provenance": [],
      "authorship_tag": "ABX9TyPsb5irbaXzgcs5kwhR4sGO",
      "include_colab_link": true
    },
    "kernelspec": {
      "name": "python3",
      "display_name": "Python 3"
    },
    "language_info": {
      "name": "python"
    }
  },
  "cells": [
    {
      "cell_type": "markdown",
      "metadata": {
        "id": "view-in-github",
        "colab_type": "text"
      },
      "source": [
        "<a href=\"https://colab.research.google.com/github/MarinBomgaars/BTE-320/blob/main/Other_In_Class_Examples.ipynb\" target=\"_parent\"><img src=\"https://colab.research.google.com/assets/colab-badge.svg\" alt=\"Open In Colab\"/></a>"
      ]
    },
    {
      "cell_type": "markdown",
      "source": [
        "# **Other In-Class Examples**"
      ],
      "metadata": {
        "id": "sButKL8QWNwi"
      }
    },
    {
      "cell_type": "markdown",
      "source": [
        "# Appending and Removing from Lists:"
      ],
      "metadata": {
        "id": "z-7il4H_SOEi"
      }
    },
    {
      "cell_type": "markdown",
      "source": [
        "**Appending a List of Numbers:**"
      ],
      "metadata": {
        "id": "JISfPf7BQoC_"
      }
    },
    {
      "cell_type": "code",
      "execution_count": null,
      "metadata": {
        "id": "8BGDRexSQaO-"
      },
      "outputs": [],
      "source": [
        " L = []      #creating an empty list\n",
        "number = int(input('Enter a number: ')) #defining the input variable, number\n",
        "\n",
        "while number != 0:    #creating the while statement with the desired conditional\n",
        "  L.append(number)    #updating L by adding 'number' from each iteration to L\n",
        "  number = int(input('Enter a number: '))   #asks the user for another input each time the condition is met\n",
        "\n",
        "L.sort()    #sorts the values of L in ascending order\n",
        "print(L)    #displays the L with all of the additional objects"
      ]
    },
    {
      "cell_type": "markdown",
      "source": [
        "**Incorrect Way to Remove Values of Lists with For Loops:**"
      ],
      "metadata": {
        "id": "2yn0R2OAQrm7"
      }
    },
    {
      "cell_type": "code",
      "source": [
        "#this example doesn't work because the for loop iterates 1 index at a time\n",
        "#each time this loop it iterates it removes common numbers from L1\n",
        "#this changes the values of L1, the length of L1, and the indices of the objects in L1\n",
        "#because of this the loop will skip over certain values in the loop\n",
        "\n",
        "L1 = [1, 2, 3, 4]\n",
        "L2 = [1, 2, 5, 6]\n",
        "\n",
        "for item in L1:   #creates a for loop that iterates over every item in L1\n",
        "  if item in L2:  #establishes whether any of the items in L1 are also in L2\n",
        "    L1.remove(item) #this updates L1 without the repeated value (causing the error)\n",
        "L1"
      ],
      "metadata": {
        "id": "3MZmztUQQz-Y"
      },
      "execution_count": null,
      "outputs": []
    },
    {
      "cell_type": "markdown",
      "source": [
        "**Correct Way to Remove Values of Lists with For Loops:**"
      ],
      "metadata": {
        "id": "bzp5Pw-XQ0wj"
      }
    },
    {
      "cell_type": "code",
      "source": [
        "L1 = [1, 2, 3, 4]\n",
        "L2 = [1, 2, 5, 6]\n",
        "\n",
        "for item in L1[:]:   #as opposed to the last example, in this case, we use slicing\n",
        "  if item in L2:\n",
        "    L1.remove(item)\n",
        "L1"
      ],
      "metadata": {
        "id": "wuc3du3uQ3YY"
      },
      "execution_count": null,
      "outputs": []
    },
    {
      "cell_type": "markdown",
      "source": [
        "# Defining Functions\n",
        "\n",
        "When defining a function, the type used as the parameter for the function must always be that type when the function is used. However, when using a defined function, the name of the parameter does not have to be the same as the name of the parameter used when the function was defined. For example if we define the function fill using a list (l) as a parameter, when we use the fill function we have to have a list as the parameter (name could be anything, i.e. aList)."
      ],
      "metadata": {
        "id": "tzYWOZ68Rf0R"
      }
    },
    {
      "cell_type": "markdown",
      "source": [
        "**Defining 'Fill' Example:**"
      ],
      "metadata": {
        "id": "VslHA0otRkrh"
      }
    },
    {
      "cell_type": "code",
      "source": [
        "#this code defines the function fill. This function will go through a range of 10\n",
        "#and add every number to a list unless that number is divisible by two.\n",
        "#in other word it adds all odd numbers in range 10 to a given list.\n",
        "def fill(l):\n",
        "  for i in range(10):\n",
        "    l.append(i)\n",
        "    if i%2 == 0:\n",
        "      l.pop()\n",
        "  print(l)"
      ],
      "metadata": {
        "id": "byuaSArlRhuX"
      },
      "execution_count": null,
      "outputs": []
    },
    {
      "cell_type": "code",
      "source": [
        "#this code is an implementation of the fill function which we defined above\n",
        "aList = []\n",
        "fill(aList)"
      ],
      "metadata": {
        "id": "91rwKgJ1Rokx"
      },
      "execution_count": null,
      "outputs": []
    },
    {
      "cell_type": "markdown",
      "source": [
        "**Defining 'Greeting' Example:**"
      ],
      "metadata": {
        "id": "8nFc_iuNRrGB"
      }
    },
    {
      "cell_type": "code",
      "source": [
        "#this code defines the function, greeting, which prints a statement using\n",
        "#a string that is a name\n",
        "def greeting(n):\n",
        "  print(f'Hello {n}!')\n",
        "\n",
        "name = input('Enter a name: ')\n",
        "greeting(name)"
      ],
      "metadata": {
        "id": "7YbVLCsiRtHL"
      },
      "execution_count": null,
      "outputs": []
    },
    {
      "cell_type": "code",
      "source": [
        "#this is the same as the code above but instead of using print, we return the string\n",
        "#in order to do this we have to assign the greeting to a variable and use the print\n",
        "#function to display it\n",
        "def greeting(n):\n",
        "  return f'Hello {n}!'\n",
        "\n",
        "name = input('Enter a name: ')\n",
        "message = greeting(name)\n",
        "print(message)"
      ],
      "metadata": {
        "id": "ZLI5twNzRvKV"
      },
      "execution_count": null,
      "outputs": []
    },
    {
      "cell_type": "markdown",
      "source": [
        "**Defining \"Add_Num' Example:**"
      ],
      "metadata": {
        "id": "cJa_ZV6-Rw1i"
      }
    },
    {
      "cell_type": "code",
      "source": [
        "#this code defines a function called add_num that displays the sum of two numbers\n",
        "#this function requires two inputs\n",
        "def add_num(a, b):\n",
        "  c = a + b\n",
        "  return c  #for this portion we can also write 'return a + b' and remove the line above\n",
        "\n",
        "x = 5\n",
        "y = 6\n",
        "z = add_num(x, y)\n",
        "print(z)"
      ],
      "metadata": {
        "id": "xtbLc_leRzOh"
      },
      "execution_count": null,
      "outputs": []
    },
    {
      "cell_type": "code",
      "source": [
        "#this code is the same as the example above except that we return (and print) two\n",
        "#two values (the sum and the sum squared)\n",
        "def add_num_sq(a, b):\n",
        "  c = a + b\n",
        "  c_sq = c ** 2\n",
        "  return c, c_sq\n",
        "\n",
        "x = 5\n",
        "y = 6\n",
        "z, z_sq = add_num_sq(x, y)  #we can define two variables at once because the function\n",
        "                            #has two return variables (z is the sum, z_ sq is the sum sqaured)\n",
        "print(z_sq)   #this will only print the sum squared given the way we defined variables"
      ],
      "metadata": {
        "id": "grKAUl4fR1Jl"
      },
      "execution_count": null,
      "outputs": []
    },
    {
      "cell_type": "markdown",
      "source": [
        "**Defining 'Fill_New' Function**"
      ],
      "metadata": {
        "id": "3tMwsNtlR5Z0"
      }
    },
    {
      "cell_type": "code",
      "source": [
        "#this code operates the same as the first example except we reworked it so that\n",
        "#it doesn't take any parameters\n",
        "def fill_new():\n",
        "  l = []\n",
        "  for i in range(10):\n",
        "    l.append(i)\n",
        "    if i%2 == 0:\n",
        "      l.pop()\n",
        "  print(l)\n",
        "\n",
        "fill_new()"
      ],
      "metadata": {
        "id": "NSIierjJR6Nd"
      },
      "execution_count": null,
      "outputs": []
    },
    {
      "cell_type": "markdown",
      "source": [
        "# Dictionary Examples\n",
        "The format of an item in a dictionary is {key: value}. In dictionaries, instead of finding a value using the index (as done for strings, tuples, etc.), we find values using the key. There is no notion of order within dictionaries which is why we do not reference an index.Keys are unique and immutable. Values can be any given any type."
      ],
      "metadata": {
        "id": "C79yR7KbSIKx"
      }
    },
    {
      "cell_type": "code",
      "source": [
        "grades = {\n",
        "    'Alice': 91,\n",
        "    'Bob': 88,\n",
        "    'Tracy': 93,\n",
        "    'Erik': 90\n",
        "}     #the above lines create a dictionary, grades, with a list of each student and their given grade\n",
        "\n",
        "grades['Tracy'] #to display a certain value in a dictionary, we must call it using the key\n",
        "                #in this case the keys are the students names"
      ],
      "metadata": {
        "id": "arBY29WLSXdR"
      },
      "execution_count": null,
      "outputs": []
    },
    {
      "cell_type": "code",
      "source": [
        "grades['Alice'] = 95  #changes Alice's grade to 95 from 91\n",
        "grades"
      ],
      "metadata": {
        "id": "YRPB3QFDSX1z"
      },
      "execution_count": null,
      "outputs": []
    },
    {
      "cell_type": "code",
      "source": [
        "grades['Michael'] = 92  #adds a new key, Michael, and assigns a value, 92, to that key\n",
        "grades"
      ],
      "metadata": {
        "id": "5fYCzliLSZLW"
      },
      "execution_count": null,
      "outputs": []
    },
    {
      "cell_type": "code",
      "source": [
        "del grades ['Michael'] #deletes an existing key in the dictionary\n",
        "grades"
      ],
      "metadata": {
        "id": "f6RfR_pSSb-B"
      },
      "execution_count": null,
      "outputs": []
    },
    {
      "cell_type": "code",
      "source": [
        "grades.keys() #displays all of the keys in the dictionary"
      ],
      "metadata": {
        "id": "ySsr0t7CSdcQ"
      },
      "execution_count": null,
      "outputs": []
    },
    {
      "cell_type": "code",
      "source": [
        "grades.values() #displays all of the values in the dictionary"
      ],
      "metadata": {
        "id": "7HBgQJPySfR1"
      },
      "execution_count": null,
      "outputs": []
    },
    {
      "cell_type": "code",
      "source": [
        "grades.items()  #displays all of the items in the dictionary"
      ],
      "metadata": {
        "id": "fM7YUse1Sg03"
      },
      "execution_count": null,
      "outputs": []
    },
    {
      "cell_type": "code",
      "source": [
        "#this is a for loop that iterates over all of the key values and prints each\n",
        "#this can be done for keys, values, and items\n",
        "\n",
        "for key in grades.keys():\n",
        "  print(key)"
      ],
      "metadata": {
        "id": "NlxMqC2mSiW8"
      },
      "execution_count": null,
      "outputs": []
    },
    {
      "cell_type": "code",
      "source": [
        "#this is a for loop that iterates over all of the items and each key and given value\n",
        "for key, value in grades.items():\n",
        "  print(key, value)"
      ],
      "metadata": {
        "id": "AAwpuaTUSj_W"
      },
      "execution_count": null,
      "outputs": []
    },
    {
      "cell_type": "markdown",
      "source": [
        "# **Exception and Syntax Errors**\n",
        "Syntax errors occur when there is something wrong with the structure/way someone has written a code (i.e. a parenthesis missing). Exception errors are often harder to recognizse and can be harder to find"
      ],
      "metadata": {
        "id": "xkxJDHDcSx4M"
      }
    },
    {
      "cell_type": "markdown",
      "source": [
        "**Some Examples of Exception Errors (Non-syntax Errors):**\n",
        "\n",
        "\n",
        "*   Division by zero: when calculating, dividing a number by 0 will produce an error\n",
        "\n",
        "*   Type error: dividing an integer by a string (error can occur with mathematical operators and other types of variables that aren't compatible)\n",
        "*   Index error: referencing the index 5 when there are only 5 objects in a list/string\n",
        "\n",
        "\n",
        "*   Indentation errors: when a line(s) of code is not aligned correctly (often happens when using iterations and defining functions)"
      ],
      "metadata": {
        "id": "TmiBJBrPSyTC"
      }
    },
    {
      "cell_type": "markdown",
      "source": [
        "**Try and Except (Exception Handling):**"
      ],
      "metadata": {
        "id": "MoVg6jWzS0Ye"
      }
    },
    {
      "cell_type": "code",
      "source": [
        "try:        #inside the try we put the code that we are trying to run (that could lead to an error)\n",
        "  a = float(input('Enter a numerator: '))\n",
        "  b = float(input('Enter a denominator: '))\n",
        "  print(a/b)\n",
        "  print('Division is complete')\n",
        "\n",
        "except:\n",
        "  print ('Error Occured')     # i.e. if we were to input 0 as a denominator or a string as\n",
        "                              #one of the values, the code would return Error Occurred\n",
        "print('Program Ends.')\n",
        "\n",
        "#this code is slightly restrictive because it will tell us an error occurred, but\n",
        "#it does not reveal the type of error or how to fix it"
      ],
      "metadata": {
        "id": "Ab-ERLctS3H5"
      },
      "execution_count": null,
      "outputs": []
    },
    {
      "cell_type": "code",
      "source": [
        "#this is the same as the code above, bt=yt we specify the type of error that occurs\n",
        "try:\n",
        "  a = float(input('Enter a numerator: '))\n",
        "  b = float(input('Enter a denominator: '))\n",
        "  print(a/b)\n",
        "\n",
        "except ZeroDivisionError: #this name is native in python and checks for a division by 0\n",
        "  print ('Error: Denominator is 0, Please Choose a Non-zero Denominator')\n",
        "#the clause above will only account for the specified error, more clauses are needed\n",
        "#sych as the one below which accounts for type errors\n",
        "except ValueError:\n",
        "  print('Error: Incompatible Type, Please enter two float values')\n",
        "except:\n",
        "  print('Unknown Error')\n",
        "else:                        #if there is an error the computer will go to the except\n",
        "  print('Division Complete') #clauses; if there is no error, it will go to else\n",
        "finally: #a finally clause will display its message regardless of an error or not\n",
        "  print('Rerun program to enter new values.')\n",
        "\n",
        "print('Program Ends.')"
      ],
      "metadata": {
        "id": "BWhvOKApS5QS"
      },
      "execution_count": null,
      "outputs": []
    },
    {
      "cell_type": "code",
      "source": [
        "#this code will return the value in a list when the user inputs the index that they\n",
        "#want displayed\n",
        "l = [1, 3, 5, 7, 9]\n",
        "try:\n",
        "  idx = float(input('Enter an index: '))\n",
        "  print(l[idx])\n",
        "except TypeError:\n",
        "  print(\"Indec must be numeric\")\n",
        "except IndexError:\n",
        "  print('Index is out of bounds')\n",
        "except:\n",
        "  print('Unknown Error')"
      ],
      "metadata": {
        "id": "b9zwztmfS7GT"
      },
      "execution_count": null,
      "outputs": []
    },
    {
      "cell_type": "code",
      "source": [
        "#we are defining a function that will find the average of a list\n",
        "def listAverage(alist):\n",
        "  try:    #we need to try it because there could be a type error\n",
        "    return sum(alist)/len(alist)\n",
        "  except TypeError:\n",
        "    print('The list does not contain numbers only')\n",
        "    return None   #we still need a return within the except call\n",
        "  except ZeroDivisionError:   #an empty list will constitute this error\n",
        "    print('The list is empty')\n",
        "    return float('nan')\n",
        "\n",
        "l = [1,2,3]\n",
        "listAverage(l)"
      ],
      "metadata": {
        "id": "8GwWBmB0S808"
      },
      "execution_count": null,
      "outputs": []
    },
    {
      "cell_type": "markdown",
      "source": [
        "# Lists:\n",
        "Lists are a changable collection of elements. The elements within a list can be identified using the index (similar to strings). Lists are designed using brackets."
      ],
      "metadata": {
        "id": "0yXp8PdzTGYG"
      }
    },
    {
      "cell_type": "markdown",
      "source": [
        "**List Examples:**"
      ],
      "metadata": {
        "id": "iuB4WGHDTIw4"
      }
    },
    {
      "cell_type": "code",
      "source": [
        "L = [1, 'two', 3.0, print, [5,7,9]]\n",
        "L"
      ],
      "metadata": {
        "id": "0Xw66tryTKvp"
      },
      "execution_count": null,
      "outputs": []
    },
    {
      "cell_type": "code",
      "source": [
        "L[:3]"
      ],
      "metadata": {
        "id": "Fq71X7WUTMSQ"
      },
      "execution_count": null,
      "outputs": []
    },
    {
      "cell_type": "code",
      "source": [
        "3*['three', 9.99, 0] #the output will be a a list with these values repeating 3 times\n",
        "                      #in the same order shown here"
      ],
      "metadata": {
        "id": "DnC3fcwcTNrY"
      },
      "execution_count": null,
      "outputs": []
    },
    {
      "cell_type": "code",
      "source": [
        "#this code will not work for strings because once strings are declared they cannot be changed\n",
        "s = \"two\"\n",
        "s[2] = 'b'"
      ],
      "metadata": {
        "id": "g-CrFXDJTPOq"
      },
      "execution_count": null,
      "outputs": []
    },
    {
      "cell_type": "code",
      "source": [
        "L = [1, 'two', 3.0, print, [5,7,9]]\n",
        "L[3] = input    #because input is not in quotes the output will return a strange statement\n",
        "L"
      ],
      "metadata": {
        "id": "W38hGJunTQoC"
      },
      "execution_count": null,
      "outputs": []
    },
    {
      "cell_type": "code",
      "source": [
        "#we use a for loop because lists have a determined (finite) number of object\n",
        "#and for loops have a determined (finate) number of iterations\n",
        "L = [1, 'two', 3.0, print , [5,7,9]]\n",
        "L[3]='b'\n",
        "for index in range(len(L)):\n",
        "  print(L[index])"
      ],
      "metadata": {
        "id": "0HV9x3hvTSNM"
      },
      "execution_count": null,
      "outputs": []
    },
    {
      "cell_type": "code",
      "source": [
        "#this code will return the same output as the example above\n",
        "#another way to individually print each element in a list\n",
        "for element in L:\n",
        "  print(element)"
      ],
      "metadata": {
        "id": "2HxJ90TpTTx5"
      },
      "execution_count": null,
      "outputs": []
    },
    {
      "cell_type": "markdown",
      "source": [
        "**Two Dimensional Lists:**"
      ],
      "metadata": {
        "id": "LkBaOQVpTXec"
      }
    },
    {
      "cell_type": "code",
      "source": [
        "[[...],[...],[...]]\n",
        "\n",
        "L_outer = [[1, 2, 3],[4, 5, 6]] #this is a two dimensional list\n",
        "print(L_outer)\n",
        "\n",
        "l = L_outer[1]  #creates a new one dimensional list (l) that only contains the values of the second list within L_outer\n",
        "print(l)\n",
        "\n",
        "l[0] = 7  #modifies the first value in l from 4 to 7\n",
        "print(l)\n",
        "\n",
        "L_outer[1] = l  #makes the new value of l, [7, 5, 6], the value of the second list in L_outer\n",
        "print(L_outer)\n",
        "\n",
        "L_outer[1][0] = 7 #does the same as the code above\n",
        "print(L_outer)"
      ],
      "metadata": {
        "id": "y4SpO1c0TVXX"
      },
      "execution_count": null,
      "outputs": []
    },
    {
      "cell_type": "markdown",
      "source": [
        "**Adding Objects to Lists: Appending vs. Extending**"
      ],
      "metadata": {
        "id": "Qp7RBj5-TbUE"
      }
    },
    {
      "cell_type": "code",
      "source": [
        "#adding to the list\n",
        "#structure: obj.methodName(...)\n",
        "s = ['three', 9.99, 0]\n",
        "L.append(s)           #adds the values of s to the list, L\n",
        "L                     #append only works for lists\n",
        "\n",
        "s = ['three', 9.99, 0]\n",
        "L.extend(s)           #also adds the values of s to the list, L\n",
        "L\n",
        "\n",
        "L + ['three'] #this does not update L, but the output will be L with an added object, 'three'"
      ],
      "metadata": {
        "id": "hUY8tzLMTZ_j"
      },
      "execution_count": null,
      "outputs": []
    },
    {
      "cell_type": "code",
      "source": [
        "L.append('three')   #this will add the string object, 'three' to the end of the list\n",
        "                    #the list, L, will now have 6 objects\n",
        "\n",
        "L.append(['three', 4])  #this will add the list object, ['three', 4] to the end of the list\n",
        "                        #the list, L, will still have 6 objects\n",
        "\n",
        "L.extend(['three', 4])  #this will add the string object and variable object seperately to the list\n",
        "                        #the list, L, will now have 7 objects"
      ],
      "metadata": {
        "id": "y2N6WbUmTiSA"
      },
      "execution_count": null,
      "outputs": []
    },
    {
      "cell_type": "markdown",
      "source": [
        "**Removing Objects From Lists: Pop**"
      ],
      "metadata": {
        "id": "EYG-tkixTlYe"
      }
    },
    {
      "cell_type": "code",
      "source": [
        "# the pop method automatically uses the -1 index,\n",
        "#therefore removing the last object in the list\n",
        "\n",
        "L.pop()   #this will remove the last object from the list\n",
        "L\n",
        "\n",
        "L.pop(2)  #this will remove the 3rd (index = 2) object from the list\n",
        "L"
      ],
      "metadata": {
        "id": "-fTIIP4MTlzq"
      },
      "execution_count": null,
      "outputs": []
    },
    {
      "cell_type": "markdown",
      "source": [
        "**Sorting Lists of Numbers**"
      ],
      "metadata": {
        "id": "GlmPL7l1Tpry"
      }
    },
    {
      "cell_type": "code",
      "source": [
        "#sort only works for 'pure' lists. AKA lists that have objects of all the same type\n",
        "numbers = [5, 7, 2, 9, 1, 4, 8]\n",
        "numbers.sort()      # the sort method automatically sorts the numbers in ascending order\n",
        "numbers\n",
        "\n",
        "\n",
        "numbers.sort(reverse = True)  #this will sort the numbers in descending order\n",
        "numbers"
      ],
      "metadata": {
        "id": "caA_SQSYTrgN"
      },
      "execution_count": null,
      "outputs": []
    },
    {
      "cell_type": "markdown",
      "source": [
        "# **Object Oriented Programming**\n",
        "Ojects are characterized by: (1) Attributes - what an object is and (2) Methods - what an object can do. In order to create a custom madde object we need to assign an object type (int, float, str, tuple, list, etc). We can think of an object type as a factory and an object as a product of that factory. For example, 2 is an integer: 2 is the object (product) of type integer (factory)."
      ],
      "metadata": {
        "id": "M3x8chi2T75B"
      }
    },
    {
      "cell_type": "markdown",
      "source": [
        "**Inheritance:** Create classes that inherent from other classes. Creating an elaborate tree of classes that recieve features from preceeding classes."
      ],
      "metadata": {
        "id": "FphN7cPaT8ag"
      }
    },
    {
      "cell_type": "markdown",
      "source": [
        "**Inheritance:** The attributes and methods of Animal will be passed down to all of the lower-level classes (reptile and mammal in this example).\n",
        "\n",
        "**Polymorphism:** while the reptile and the mammal have (some of) the same attributes and methods there may be different operations to access that information about an animal based on whether they are a mammal or reptile which is why they each have repeating methods and attributes individually."
      ],
      "metadata": {
        "id": "cWnIoYWfT-Ug"
      }
    },
    {
      "cell_type": "code",
      "source": [
        "#special method names are proceeded and followed by a double underscore __name__\n",
        "#an example of a special method is the constructer method which is always the first\n",
        "#method within a class; it initializes the instance attributes (a.k.a data/information)\n",
        "#of every class instance (a.k.a object). It is called called init\n",
        "\n",
        "#every method defined in a class is required to have one (thefirst) input parameter which is the same for every method\n",
        "#for this parameter we use the word self\n",
        "\n",
        "class Animal:\n",
        "  def __init__(self ,dims, weight, life_exp): #we have parameters for all of the attributes\n",
        "    self.dims = dims  #everytime we define an attribute we start with self. then a name we choose\n",
        "    self.weight = weight\n",
        "    self.life_exp = life_exp\n",
        "    self.name = None  #we can also have attributes that are not inputs (parameters) to the constructer\n",
        "\n",
        "#At this point all we can do with the class 'Animal' is create an instance of it, we still need\n",
        "#to add all of the methods/behaviors"
      ],
      "metadata": {
        "id": "B_KJ-LQqUFCt"
      },
      "execution_count": null,
      "outputs": []
    },
    {
      "cell_type": "code",
      "source": [
        "#to create an instance of an Animal we call the class and input the needed parameters\n",
        "#dimensions: list, weight: float, life_exp: age\n",
        "a = Animal([1,2,3], 10.9, 80)"
      ],
      "metadata": {
        "id": "hZL7l-ftUFeJ"
      },
      "execution_count": null,
      "outputs": []
    },
    {
      "cell_type": "markdown",
      "source": [
        "**Mortgage Example:**"
      ],
      "metadata": {
        "id": "PoqxNHSEUKsV"
      }
    },
    {
      "cell_type": "code",
      "source": [
        "#this example creates a class that represents a mortgage. The parameters are amount, maturity\n",
        "#and interest (and self as always). Within the class we four methods: (1) returns a string, (2) returns\n",
        "#the interest rate, (3) sets a certain interest rate, and (4) calculates the payment for a given mortgage\n",
        "class Mortgage:\n",
        "  def __init__(self, amount, maturity, interest):\n",
        "    self.amount = amount\n",
        "    self.maturity = maturity\n",
        "    self.__interest = interest\n",
        "\n",
        "  def __str__(self):\n",
        "    return \"I am an instance of mortgage\"\n",
        "\n",
        "  def get_interest(self):\n",
        "    return self.__interest\n",
        "\n",
        "  def set_interest(self, newInterest):\n",
        "    if newInterest >=0:\n",
        "      self.__interest = newInterest\n",
        "    else:\n",
        "      print ('Interest values must be non-negative')\n",
        "\n",
        "\n",
        "    self.__interest= newInterest\n",
        "\n",
        "  def payment(self):\n",
        "    r = self.__interest/100\n",
        "    n = self.maturity * 12\n",
        "    return self.amount * (r * (1 +r) ** n)/((1 + r) ** n - 1)"
      ],
      "metadata": {
        "id": "m6-1ImEmUHRz"
      },
      "execution_count": null,
      "outputs": []
    },
    {
      "cell_type": "code",
      "source": [
        "m = Mortgage(100000, 30, 6)\n",
        "m.payment()"
      ],
      "metadata": {
        "id": "AtTv4b0yUP2N"
      },
      "execution_count": null,
      "outputs": []
    },
    {
      "cell_type": "code",
      "source": [
        "m.set_interest(5)\n",
        "m.get_interest()"
      ],
      "metadata": {
        "id": "KW8wHbtvUQWO"
      },
      "execution_count": null,
      "outputs": []
    },
    {
      "cell_type": "markdown",
      "source": [
        "# **Recursion**\n",
        "\n",
        "Recursion allows us to limit computation time for problems that traditionally use iterations by defining functions (that do not use iterations). The definition of a recursive function will have both a...\n",
        "\n",
        "**Base Case:** Trivialized version of the problem\n",
        "\n",
        "**Inductive Case:** Splits problem into smaller, simpler version of itself"
      ],
      "metadata": {
        "id": "8dIUKd5vUkT5"
      }
    },
    {
      "cell_type": "code",
      "source": [
        "#this is not an example of a recursive case, this is showing how we would\n",
        "#define a function for counting down using a for loop\n",
        "\n",
        "def countdownF(n):\n",
        "  for i in range (n,-1,-1):\n",
        "    print(i)\n",
        "\n",
        "countdownF(5)"
      ],
      "metadata": {
        "id": "Np_7PwffUkzZ"
      },
      "execution_count": null,
      "outputs": []
    },
    {
      "cell_type": "code",
      "source": [
        "#this is also not an example of a recursive case, this is showing how we would\n",
        "#define a function for counting down using a while loop\n",
        "\n",
        "def countdownW(n):\n",
        "  while n>=0:\n",
        "    print(n)\n",
        "    n=n-1\n",
        "\n",
        "countdownW(5)"
      ],
      "metadata": {
        "id": "NW3uK9rxUmwB"
      },
      "execution_count": null,
      "outputs": []
    },
    {
      "cell_type": "markdown",
      "source": [
        "In general, iterations are very computationally intensive, so we use recursive functions in order to minimize the time and energy used. Below is an example of a recursive function with the same output as the above ones, however, we do not perform any iterations."
      ],
      "metadata": {
        "id": "uRdgc6ElUohZ"
      }
    },
    {
      "cell_type": "code",
      "source": [
        "def recursive_countdown(n):\n",
        "  if n == 0: #base case\n",
        "    print (0)\n",
        "  else: #inductive case\n",
        "    print(n)\n",
        "    recursive_countdown(n-1) #a recursive function must include a call\n",
        "                             #to the function within the definition of the function\n",
        "\n",
        "recursive_countdown(5)"
      ],
      "metadata": {
        "id": "2X3KEzSTUqU3"
      },
      "execution_count": null,
      "outputs": []
    },
    {
      "cell_type": "markdown",
      "source": [
        "**Summation Example:**"
      ],
      "metadata": {
        "id": "cuYp8ZMLUvRA"
      }
    },
    {
      "cell_type": "code",
      "source": [
        "#non-recursive definition of a function that calculates a summation from 0 to n\n",
        "\n",
        "def summation(n):\n",
        "  s = 0\n",
        "  while n>0:\n",
        "    s = s + n\n",
        "    n = n - 1\n",
        "  return s\n",
        "\n",
        "summation(3)"
      ],
      "metadata": {
        "id": "vHPglbVFUsKn"
      },
      "execution_count": null,
      "outputs": []
    },
    {
      "cell_type": "markdown",
      "source": [
        "In order to solve this problem in a **recursive way**, we have to look at the problem differently. If n were three, we could look at the function as a series of equations like this:\n",
        "\n",
        "3 + f(2) --> f(2) = 2 + f(1) --> f(1) = 1 + f(0) --> f(0) = 0\n",
        "\n",
        "In order to solve this equation, we must go through it backward:\n",
        "\n",
        "f(0) = 0 --> 1 + 0 = 1 --> 2 + 1 = 3 --> 3 + 3 = 6"
      ],
      "metadata": {
        "id": "LaXN9c1vUxkx"
      }
    },
    {
      "cell_type": "code",
      "source": [
        "def recursive_summation(n):\n",
        "  if n == 0: #base case\n",
        "    return 0\n",
        "  else: #inductive case\n",
        "    return n + recursive_summation(n - 1) #call the the function using the logic\n",
        "                                          #above: n + f(n)\n",
        "\n",
        "recursive_summation(3)"
      ],
      "metadata": {
        "id": "uHvc_CUFU0NI"
      },
      "execution_count": null,
      "outputs": []
    },
    {
      "cell_type": "markdown",
      "source": [
        "**Application Example: Factorial**"
      ],
      "metadata": {
        "id": "hItyx2xwU4gg"
      }
    },
    {
      "cell_type": "code",
      "source": [
        "def recursive_factorial(n):\n",
        "  if n <= 1: #base case\n",
        "    return 1\n",
        "  else: #inductive case\n",
        "    return n * recursive_factorial(n - 1)\n",
        "\n",
        "recursive_factorial(5)"
      ],
      "metadata": {
        "id": "SCDn_s4gU46L"
      },
      "execution_count": null,
      "outputs": []
    },
    {
      "cell_type": "code",
      "source": [
        "#this will provide the same output as the case above, however for problems where n is very large,\n",
        "#the variable product will take up a lot of memory as it iterates\n",
        "\n",
        "def fact(n):\n",
        "  prod = 1\n",
        "  while n >= 1:\n",
        "    prod = prod * n\n",
        "    n = n - 1\n",
        "  return prod\n",
        "\n",
        "fact(5)"
      ],
      "metadata": {
        "id": "2o1P9wjHVBrZ"
      },
      "execution_count": null,
      "outputs": []
    },
    {
      "cell_type": "markdown",
      "source": [
        "In some cases, we will need to have 2 base cases. An example of this is the program to calculate the Fibonacci sequence. The **inductive case** for this example is:\n",
        "\n",
        " n = f(n - 1) + f(n -2).\n",
        "\n",
        " The **base cases**:\n",
        "\n",
        " n = 0 --> f(0) = 1\n",
        "\n",
        " n = 1 --> f(1) = 1"
      ],
      "metadata": {
        "id": "5dT1xUEqVDlI"
      }
    },
    {
      "cell_type": "markdown",
      "source": [
        "**Fibonacci Sequence Example:**"
      ],
      "metadata": {
        "id": "sbPT9qZ8VGPB"
      }
    },
    {
      "cell_type": "code",
      "source": [
        "def recursive_fibonacci(n):\n",
        "  if n == 0 or n == 1:\n",
        "    return 1\n",
        "  else:\n",
        "    return recursive_fibonacci(n - 1) + recursive_fibonacci(n - 2)\n",
        "\n",
        "recursive_fibonacci(8)\n",
        "\n",
        "#for demonstration purposes):\n",
        "#for i in range(8):\n",
        "  #print(recursive_fibonacci(i), end = \" \")"
      ],
      "metadata": {
        "id": "nPRfdO2CVD-m"
      },
      "execution_count": null,
      "outputs": []
    },
    {
      "cell_type": "markdown",
      "source": [
        "**Reverse Hello Example:**"
      ],
      "metadata": {
        "id": "yHK9Xbe9VIt3"
      }
    },
    {
      "cell_type": "code",
      "source": [
        "#this function takes a string and returns the string in reverse\n",
        "#we have to do this by returning the last character + the rest of the string\n",
        "#for example the first iteration returns o + f(Hell) --> l + f(Hell) and so on\n",
        "\n",
        "def reverse_string(s):\n",
        "  if len(s) == 1:\n",
        "    return s\n",
        "  else:\n",
        "    return s[-1] + reverse_string(s[0:-1])\n",
        "\n",
        "reverse_string(\"Hello\")"
      ],
      "metadata": {
        "id": "vLyPiTQhVK_w"
      },
      "execution_count": null,
      "outputs": []
    },
    {
      "cell_type": "markdown",
      "source": [
        "# **Bubble Sorting vs. Quick Sorting**\n",
        "For bubble sorting, picture a list of numbers that is formatted vertically. If we are hoping to sort them in acscending order (smallest at the top, largest at the bottom), the program will look at the first two numbers and put the smallest one above. Then it will look at the second and third numbers and so-on. The program will have to go through the list many times in order to fully sort the numbers. Because of this, it takes a long period of time to sort long lists (100-200 numbers).\n",
        "\n",
        "Recursion is much more effective for theses types of problems. An example of sorting with recursion is quick sort. This program, will choose a random index within the list. It will then sort the numbers based on the value of the chosen index. The first group is every number that is smaller than the random value, the second group is every number equal to it, and the third is every number larger. This process is repeated with the sub-lists until every number is sorted into lists containing one or no values."
      ],
      "metadata": {
        "id": "B4ufwg59VNMw"
      }
    },
    {
      "cell_type": "markdown",
      "source": [
        "## Strings are fixed once they are declared and we can use different functions to gain insights about strings:\n",
        "- len: provides the number of characters in a string\n",
        "- s[#]: provides the value of a character at a given index (#)\n",
        "- s + s2 : creates a new string with the value(s) of s followed by the the contents of s2\n",
        "- (#) * s: creates a new string that repeats the contents of the original string for a given amount of times (#)"
      ],
      "metadata": {
        "id": "DsNUNP_MVnNJ"
      }
    },
    {
      "cell_type": "code",
      "source": [
        "s = 'This is a test'\n",
        "len(s) #output --> 14\n",
        "s[8] #output --> 'a'\n",
        "s + ', and this is a test too' #output --> 'This is a test, and this is a test too'\n",
        "\n",
        "s2 = 'a'\n",
        "print(3*s2) #output --> aaa"
      ],
      "metadata": {
        "id": "tKTM3Kg0VqRQ"
      },
      "execution_count": null,
      "outputs": []
    },
    {
      "cell_type": "markdown",
      "source": [
        "**Slice Function**\n",
        "- start: the index of the initial value for the slice\n",
        "- end: the index of the'last' value in the slice (we never reach this value - similar to range function)\n",
        "- step: the increment taken while going from one index to the next"
      ],
      "metadata": {
        "id": "MeuRRyWYVpF2"
      }
    },
    {
      "cell_type": "code",
      "source": [
        "s2 = 'abcdefg'\n",
        "s3 = s2[2:5:1] #output --> cde\n",
        "print(s3)\n",
        "\n",
        "s4 = s2[3:len(s2)] #in order to have the end value be the last character, we can use the len function\n",
        "print(s4)"
      ],
      "metadata": {
        "id": "vFZ6ORIQV4TX"
      },
      "execution_count": null,
      "outputs": []
    },
    {
      "cell_type": "markdown",
      "source": [
        "**More Examples:**"
      ],
      "metadata": {
        "id": "thlIvZlRVz1W"
      }
    },
    {
      "cell_type": "code",
      "source": [
        "ex = \"This is another test!\"\n",
        "\n",
        "print(ex[len(ex) - 1]) #output --> !\n",
        "\n",
        "print(ex[8:15]) #output --> another\n",
        "\n",
        "print(ex[len(ex) -1], ex[20], ex[-1]) #all three of these will return the last character in this string\n",
        "                                      #the second strategy requires you to find the exact index (20 will not work for all strings)\n",
        "\n",
        "ex[:4] #output --> 'This' (by omitting the start value it assumes to start at index 0)\n",
        "ex[16:] #output --> 'test!' (by omitting the end value it assumes to end at the last charcater which is the last index + 1)"
      ],
      "metadata": {
        "id": "MMV7TfQ9V5jg"
      },
      "execution_count": null,
      "outputs": []
    },
    {
      "cell_type": "markdown",
      "source": [
        "**Date Example (Slicing):**"
      ],
      "metadata": {
        "id": "l1_WZTTrV7mY"
      }
    },
    {
      "cell_type": "code",
      "source": [
        "# Write a program that takes an input from the keyboard as a string that corresponds\n",
        "# to a date (e.g., 02/20/2024) in the format <<: MM/DD/YYYY\n",
        "\n",
        "date = input('Enter the date: ')\n",
        "\n",
        "month = date[0:2]\n",
        "day = date[3:5]\n",
        "year = date[6:]\n",
        "\n",
        "if month == '01':\n",
        "  month_written = 'January'\n",
        "elif month == '02':\n",
        "  month_written = 'February'\n",
        "elif month == '03':\n",
        "  month_written = 'March'\n",
        "elif month == '04':\n",
        "  month_written = 'April'\n",
        "elif month == '05':\n",
        "  month_written = 'May'\n",
        "elif month == '06':\n",
        "  month_written = 'June'\n",
        "elif month == '07':\n",
        "  month_written = 'July'\n",
        "elif month == '08':\n",
        "  month_written = 'August'\n",
        "elif month == '09':\n",
        "  month_written = 'September'\n",
        "elif month == '10':\n",
        "  month_written = 'October'\n",
        "elif month == '11':\n",
        "  month_written = 'November'\n",
        "elif month == '12':\n",
        "  month_written = 'December'\n",
        "\n",
        "print(f\"the month is {month_written}.\")\n",
        "print(f\"the day is the {day}.\")\n",
        "print(f\"the year is {year}.\")"
      ],
      "metadata": {
        "id": "RfWegxlLV9q2"
      },
      "execution_count": null,
      "outputs": []
    },
    {
      "cell_type": "markdown",
      "source": [
        "**More Examples:**"
      ],
      "metadata": {
        "id": "AHfPhORkV_nK"
      }
    },
    {
      "cell_type": "code",
      "source": [
        "hello = 'hello '  #we need to include an extra space at the end of the first string or beginning of the second\n",
        "there = 'there'\n",
        "\n",
        "hello + there   #when adding strings we cannot add a variable of a different type"
      ],
      "metadata": {
        "id": "Du6IGkR0WBm1"
      },
      "execution_count": null,
      "outputs": []
    },
    {
      "cell_type": "code",
      "source": [
        "s = 'This is another test'\n",
        "\n",
        "for i in range(len(s)):   #default values for start and step are 0 and 1\n",
        "  print(s[i])             #prints each value in the string individually"
      ],
      "metadata": {
        "id": "3VD9s1_TWDaw"
      },
      "execution_count": null,
      "outputs": []
    },
    {
      "cell_type": "code",
      "source": [
        "#this code has the same output as the example above and is more efficient with less\n",
        "#room for errors to occur\n",
        "\n",
        "s = 'This is another test'\n",
        "\n",
        "for c in s:\n",
        "  print(c)"
      ],
      "metadata": {
        "id": "6u0SJQz7WFGq"
      },
      "execution_count": null,
      "outputs": []
    },
    {
      "cell_type": "code",
      "source": [
        "s1 = 'computer'\n",
        "s2 ='codes'\n",
        "\n",
        "for c in s1:\n",
        "  if c in s2:\n",
        "    print(c)    #finds the common characters within strings"
      ],
      "metadata": {
        "id": "a6suMJkMWGkO"
      },
      "execution_count": null,
      "outputs": []
    },
    {
      "cell_type": "code",
      "source": [
        "s1 = 'computer'\n",
        "s2 ='codes'\n",
        "\n",
        "for i in range(len(s1)):\n",
        "  if s1[i] in s2:\n",
        "    print(s1[i])    #has the same output as the code above just rewritten\n",
        "                    #with different parameters in the for loop and if statement"
      ],
      "metadata": {
        "id": "lWvmSs9aWIOG"
      },
      "execution_count": null,
      "outputs": []
    },
    {
      "cell_type": "code",
      "source": [
        "s =''\n",
        "\n",
        "for i in range(5):\n",
        "  s = s + 'a'\n",
        "  print(len(s))\n",
        "\n",
        "print(s)"
      ],
      "metadata": {
        "id": "_SCrTK8KWKGq"
      },
      "execution_count": null,
      "outputs": []
    }
  ]
}