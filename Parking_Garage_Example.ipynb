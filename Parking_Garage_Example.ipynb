{
  "nbformat": 4,
  "nbformat_minor": 0,
  "metadata": {
    "colab": {
      "provenance": [],
      "authorship_tag": "ABX9TyP8rrSjjUXTcaOhCYraFvMj",
      "include_colab_link": true
    },
    "kernelspec": {
      "name": "python3",
      "display_name": "Python 3"
    },
    "language_info": {
      "name": "python"
    }
  },
  "cells": [
    {
      "cell_type": "markdown",
      "metadata": {
        "id": "view-in-github",
        "colab_type": "text"
      },
      "source": [
        "<a href=\"https://colab.research.google.com/github/MarinBomgaars/BTE-320/blob/main/Parking_Garage_Example.ipynb\" target=\"_parent\"><img src=\"https://colab.research.google.com/assets/colab-badge.svg\" alt=\"Open In Colab\"/></a>"
      ]
    },
    {
      "cell_type": "code",
      "execution_count": null,
      "metadata": {
        "id": "0prHkB5DE-EA"
      },
      "outputs": [],
      "source": [
        "#This example calculates the fee for a parking garage based on the number of hours parked\n",
        "for hour in range(1, 9):\n",
        "  fee = 5 + 2.5 * hour  #base rate of 5 dollars with 2.5 dollars for every hour\n",
        "  if fee < 10:\n",
        "    fee = 10.0  #minimum fee is 10 dollars\n",
        "  elif fee > 20:\n",
        "    fee = 20.0  #maximum fee is 20 dollars\n",
        "  print(f'{hour} ${fee}')"
      ]
    }
  ]
}