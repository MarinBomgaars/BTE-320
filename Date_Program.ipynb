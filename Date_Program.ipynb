{
  "nbformat": 4,
  "nbformat_minor": 0,
  "metadata": {
    "colab": {
      "provenance": [],
      "authorship_tag": "ABX9TyO+a/ld7Aii7KulzaTyldAg",
      "include_colab_link": true
    },
    "kernelspec": {
      "name": "python3",
      "display_name": "Python 3"
    },
    "language_info": {
      "name": "python"
    }
  },
  "cells": [
    {
      "cell_type": "markdown",
      "metadata": {
        "id": "view-in-github",
        "colab_type": "text"
      },
      "source": [
        "<a href=\"https://colab.research.google.com/github/MarinBomgaars/BTE-320/blob/main/Date_Program.ipynb\" target=\"_parent\"><img src=\"https://colab.research.google.com/assets/colab-badge.svg\" alt=\"Open In Colab\"/></a>"
      ]
    },
    {
      "cell_type": "code",
      "execution_count": null,
      "metadata": {
        "id": "QVMVy0e2Nqb6"
      },
      "outputs": [],
      "source": [
        "# Write a program that takes an input from the keyboard as a string that corresponds\n",
        "# to a date (e.g., 02/20/2024) in the format <<: MM/DD/YYYY\n",
        "\n",
        "date = input('Enter the date: ')\n",
        "\n",
        "month = date[0:2]\n",
        "day = date[3:5]\n",
        "year = date[6:]\n",
        "\n",
        "if month == '01':\n",
        "  month_written = 'January'\n",
        "elif month == '02':\n",
        "  month_written = 'February'\n",
        "elif month == '03':\n",
        "  month_written = 'March'\n",
        "elif month == '04':\n",
        "  month_written = 'April'\n",
        "elif month == '05':\n",
        "  month_written = 'May'\n",
        "elif month == '06':\n",
        "  month_written = 'June'\n",
        "elif month == '07':\n",
        "  month_written = 'July'\n",
        "elif month == '08':\n",
        "  month_written = 'August'\n",
        "elif month == '09':\n",
        "  month_written = 'September'\n",
        "elif month == '10':\n",
        "  month_written = 'October'\n",
        "elif month == '11':\n",
        "  month_written = 'November'\n",
        "elif month == '12':\n",
        "  month_written = 'December'\n",
        "\n",
        "print(f\"the month is {month_written}.\")\n",
        "print(f\"the day is the {day}.\")\n",
        "print(f\"the year is {year}.\")"
      ]
    }
  ]
}