{
  "nbformat": 4,
  "nbformat_minor": 0,
  "metadata": {
    "colab": {
      "provenance": [],
      "authorship_tag": "ABX9TyPUneGARzlBZjl4g0rILWwM",
      "include_colab_link": true
    },
    "kernelspec": {
      "name": "python3",
      "display_name": "Python 3"
    },
    "language_info": {
      "name": "python"
    }
  },
  "cells": [
    {
      "cell_type": "markdown",
      "metadata": {
        "id": "view-in-github",
        "colab_type": "text"
      },
      "source": [
        "<a href=\"https://colab.research.google.com/github/MarinBomgaars/BTE-320/blob/main/Appending_and_Removing_with_Lists_(2_29).ipynb\" target=\"_parent\"><img src=\"https://colab.research.google.com/assets/colab-badge.svg\" alt=\"Open In Colab\"/></a>"
      ]
    },
    {
      "cell_type": "markdown",
      "source": [
        "**Appending a List of Numbers:**"
      ],
      "metadata": {
        "id": "dpLLKdqdI1fv"
      }
    },
    {
      "cell_type": "code",
      "execution_count": null,
      "metadata": {
        "id": "J9GaGwD4BSv8"
      },
      "outputs": [],
      "source": [
        "L = []      #creating an empty list\n",
        "number = int(input('Enter a number: ')) #defining the input variable, number\n",
        "\n",
        "while number != 0:    #creating the while statement with the desired conditional\n",
        "  L.append(number)    #updating L by adding 'number' from each iteration to L\n",
        "  number = int(input('Enter a number: '))   #asks the user for another input each time the condition is met\n",
        "\n",
        "L.sort()    #sorts the values of L in ascending order\n",
        "print(L)    #displays the L with all of the additional objects"
      ]
    },
    {
      "cell_type": "markdown",
      "source": [
        "**Incorrect Way to Remove Values of Lists with For Loops:**"
      ],
      "metadata": {
        "id": "71rr5VUzI8BF"
      }
    },
    {
      "cell_type": "code",
      "source": [
        "#this example doesn't work because the for loop iterates 1 index at a time\n",
        "#each time this loop it iterates it removes common numbers from L1\n",
        "#this changes the values of L1, the length of L1, and the indices of the objects in L1\n",
        "#because of this the loop will skip over certain values in the loop\n",
        "\n",
        "L1 = [1, 2, 3, 4]\n",
        "L2 = [1, 2, 5, 6]\n",
        "\n",
        "for item in L1:   #creates a for loop that iterates over every item in L1\n",
        "  if item in L2:  #establishes whether any of the items in L1 are also in L2\n",
        "    L1.remove(item) #this updates L1 without the repeated value (causing the error)\n",
        "L1"
      ],
      "metadata": {
        "id": "5EBc6bHbHEzO"
      },
      "execution_count": null,
      "outputs": []
    },
    {
      "cell_type": "markdown",
      "source": [
        "**Correct Way to Remove Values of Lists with For Loops:**"
      ],
      "metadata": {
        "id": "5-r53LQnJQkq"
      }
    },
    {
      "cell_type": "code",
      "source": [
        "L1 = [1, 2, 3, 4]\n",
        "L2 = [1, 2, 5, 6]\n",
        "\n",
        "for item in L1[:]:   #as opposed to the last example, in this case, we use slicing\n",
        "  if item in L2:\n",
        "    L1.remove(item)\n",
        "L1"
      ],
      "metadata": {
        "id": "N7za9r2JJFrd"
      },
      "execution_count": null,
      "outputs": []
    }
  ]
}