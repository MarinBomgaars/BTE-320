{
  "nbformat": 4,
  "nbformat_minor": 0,
  "metadata": {
    "colab": {
      "provenance": [],
      "authorship_tag": "ABX9TyM0GrGR8ZG8ZdGN1yOi4jqs",
      "include_colab_link": true
    },
    "kernelspec": {
      "name": "python3",
      "display_name": "Python 3"
    },
    "language_info": {
      "name": "python"
    }
  },
  "cells": [
    {
      "cell_type": "markdown",
      "metadata": {
        "id": "view-in-github",
        "colab_type": "text"
      },
      "source": [
        "<a href=\"https://colab.research.google.com/github/MarinBomgaars/BTE-320/blob/main/Class_Point_(In_class_Example).ipynb\" target=\"_parent\"><img src=\"https://colab.research.google.com/assets/colab-badge.svg\" alt=\"Open In Colab\"/></a>"
      ]
    },
    {
      "cell_type": "markdown",
      "source": [
        "# **In-Class Example: Point**"
      ],
      "metadata": {
        "id": "XYpoxN6xKIZ-"
      }
    },
    {
      "cell_type": "code",
      "execution_count": null,
      "metadata": {
        "id": "GDM-zURCFwRY"
      },
      "outputs": [],
      "source": [
        "#we are creating a class that uses the parameters x and y with a method to find the\n",
        "#distance between two points\n",
        "class Point:\n",
        "  def __init__(self, x, y):\n",
        "    self.x = x\n",
        "    self.y = y\n",
        "\n",
        "  def distance(self, other):\n",
        "    x_diff = (self.x - other.x) ** 2  #we use Pythagorean theorum for the calculations\n",
        "    y_diff = (self.y - other.y) ** 2\n",
        "    return (x_diff + y_diff) ** 0.5\n",
        "\n",
        "#Point is the parent class to Point 3D\n",
        "class Point3d(Point):\n",
        "  def __init__(self, x, y, z):\n",
        "    super().__init__(x, y) #this is the super object which is used to call the constructer of the parent function\n",
        "    self.z = z  #since z isn't a parameter in Point, we need to initialize it here\n",
        "\n",
        "p1 = Point(3,4) #defining the points\n",
        "p2 = Point(6,8)\n",
        "\n",
        "print(p1.distance(p2))  #in this example we can exchange where p1 and p2 are located within the line"
      ]
    }
  ]
}