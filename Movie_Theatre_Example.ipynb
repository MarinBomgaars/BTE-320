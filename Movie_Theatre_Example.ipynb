{
  "nbformat": 4,
  "nbformat_minor": 0,
  "metadata": {
    "colab": {
      "provenance": [],
      "authorship_tag": "ABX9TyM2bBfybE8mJmShd1iUfxaj",
      "include_colab_link": true
    },
    "kernelspec": {
      "name": "python3",
      "display_name": "Python 3"
    },
    "language_info": {
      "name": "python"
    }
  },
  "cells": [
    {
      "cell_type": "markdown",
      "metadata": {
        "id": "view-in-github",
        "colab_type": "text"
      },
      "source": [
        "<a href=\"https://colab.research.google.com/github/MarinBomgaars/BTE-320/blob/main/Movie_Theatre_Example.ipynb\" target=\"_parent\"><img src=\"https://colab.research.google.com/assets/colab-badge.svg\" alt=\"Open In Colab\"/></a>"
      ]
    },
    {
      "cell_type": "code",
      "execution_count": 1,
      "metadata": {
        "id": "X3bLM5rqOW45",
        "colab": {
          "base_uri": "https://localhost:8080/"
        },
        "outputId": "a263aaa5-1e0d-47b6-c0c8-73da8e1d631b"
      },
      "outputs": [
        {
          "output_type": "stream",
          "name": "stdout",
          "text": [
            "Ad$ Profit\n",
            "0.0 $0.0\n",
            "25.0 $75.0\n",
            "50.0 $90.0\n",
            "75.0 $105.0\n",
            "100.0 $100.0\n",
            "125.0 $95.0\n",
            "150.0 $90.0\n",
            "175.0 $85.0\n",
            "200.0 $80.0\n"
          ]
        }
      ],
      "source": [
        "#this code provides the profit for a movie theatre (from ad revenue) based on number of attendees\n",
        "print(f'Ad$ Profit')\n",
        "\n",
        "init_attendees = 20 #initializing number of attendees\n",
        "fixed_cost = 200  #initializing fixed cost\n",
        "\n",
        "for advertising in range (0, 201, 25):  #iterating trhough 200 attendees in intervals of 25\n",
        "  ad = float(advertising)\n",
        "  attendees = float(2 * round(advertising ** 0.5) + init_attendees) #calculating attendees\n",
        "  profit = float((attendees*10) - advertising - fixed_cost) #calculating profit\n",
        "  print(f'{ad} ${profit}')"
      ]
    }
  ]
}