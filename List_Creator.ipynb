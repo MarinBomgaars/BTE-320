{
  "nbformat": 4,
  "nbformat_minor": 0,
  "metadata": {
    "colab": {
      "provenance": [],
      "authorship_tag": "ABX9TyM91hnzbEm60LF2ywRKAJv2",
      "include_colab_link": true
    },
    "kernelspec": {
      "name": "python3",
      "display_name": "Python 3"
    },
    "language_info": {
      "name": "python"
    }
  },
  "cells": [
    {
      "cell_type": "markdown",
      "metadata": {
        "id": "view-in-github",
        "colab_type": "text"
      },
      "source": [
        "<a href=\"https://colab.research.google.com/github/MarinBomgaars/BTE-320/blob/main/List_Creator.ipynb\" target=\"_parent\"><img src=\"https://colab.research.google.com/assets/colab-badge.svg\" alt=\"Open In Colab\"/></a>"
      ]
    },
    {
      "cell_type": "code",
      "execution_count": null,
      "metadata": {
        "id": "PrXgEfB4w_6f"
      },
      "outputs": [],
      "source": [
        "#this code creates and sorts a list based on the user's input\n",
        "L = []      #creating an empty list\n",
        "number = int(input('Enter a number: ')) #defining the input variable, number\n",
        "\n",
        "while number != 0:    #creating the while statement with the desired conditional\n",
        "  L.append(number)    #updating L by adding 'number' from each iteration to L\n",
        "  number = int(input('Enter a number: '))   #asks the user for another input each time the condition is met\n",
        "\n",
        "L.sort()    #sorts the values of L in ascending order\n",
        "print(L)    #displays the L with all of the additional objects"
      ]
    }
  ]
}