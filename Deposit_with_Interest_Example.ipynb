{
  "nbformat": 4,
  "nbformat_minor": 0,
  "metadata": {
    "colab": {
      "provenance": [],
      "authorship_tag": "ABX9TyMigD8ALqZ7q0fHQzHloymp",
      "include_colab_link": true
    },
    "kernelspec": {
      "name": "python3",
      "display_name": "Python 3"
    },
    "language_info": {
      "name": "python"
    }
  },
  "cells": [
    {
      "cell_type": "markdown",
      "metadata": {
        "id": "view-in-github",
        "colab_type": "text"
      },
      "source": [
        "<a href=\"https://colab.research.google.com/github/MarinBomgaars/BTE-320/blob/main/Deposit_with_Interest_Example.ipynb\" target=\"_parent\"><img src=\"https://colab.research.google.com/assets/colab-badge.svg\" alt=\"Open In Colab\"/></a>"
      ]
    },
    {
      "cell_type": "code",
      "execution_count": null,
      "metadata": {
        "id": "OBEgjHBUyYgh"
      },
      "outputs": [],
      "source": [
        "#this code determines the total amount of a deposit with interest rate given conditions\n",
        "#about cutomer type and deposit amount\n",
        "#Step 1: input deposit amount\n",
        "customer_type = input(\"Enter customer type (n: new, e: existing): \")\n",
        "deposit = float(input('Enter deposit amount ($): '))\n",
        "\n",
        "#Step 2: Establish interest rate given deposit amount\n",
        "if customer_type == 'e':\n",
        "  if deposit > 10000:\n",
        "    ir = 3.5\n",
        "  elif deposit <= 1000:\n",
        "    ir = 3.0\n",
        "  else:\n",
        "    ir = 3.25\n",
        "else:\n",
        "  ir = 3.0\n",
        "\n",
        "#Step 3: Calculate and display the amount after interest is applied\n",
        "total = (1 + ir/100) * deposit\n",
        "print (f'Total amount after applying interest rate: ${round(total, 2)}')"
      ]
    }
  ]
}